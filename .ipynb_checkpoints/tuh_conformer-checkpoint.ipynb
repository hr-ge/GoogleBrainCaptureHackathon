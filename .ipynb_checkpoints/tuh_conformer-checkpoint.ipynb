{
 "cells": [
  {
   "cell_type": "code",
   "execution_count": 1,
   "id": "5381ea2f-3f5a-4ca7-85f0-4da5b2a83e69",
   "metadata": {
    "tags": []
   },
   "outputs": [
    {
     "data": {
      "text/plain": [
       "<torch._C.Generator at 0x7fc0e028c790>"
      ]
     },
     "execution_count": 1,
     "metadata": {},
     "output_type": "execute_result"
    }
   ],
   "source": [
    "import torch\n",
    "from torch.nn import CrossEntropyLoss\n",
    "from braindecode.models import EEGConformer\n",
    "torch.manual_seed(0)"
   ]
  },
  {
   "cell_type": "code",
   "execution_count": 2,
   "id": "391fee34-5690-4525-aaf0-62e05b20024c",
   "metadata": {
    "collapsed": true,
    "jupyter": {
     "outputs_hidden": true
    },
    "tags": []
   },
   "outputs": [
    {
     "name": "stdout",
     "output_type": "stream",
     "text": [
      "================================================================================================================================================================\n",
      "Layer (type (var_name):depth-idx)                            Input Shape               Output Shape              Param #                   Kernel Shape\n",
      "================================================================================================================================================================\n",
      "EEGConformer (EEGConformer)                                  [1, 20, 1537]             [1, 5]                    --                        --\n",
      "├─_PatchEmbedding (patch_embedding): 1-1                     [1, 1, 20, 1537]          [1, 96, 40]               --                        --\n",
      "│    └─Sequential (shallownet): 2-1                          [1, 1, 20, 1537]          [1, 40, 1, 96]            --                        --\n",
      "│    │    └─Conv2d (0): 3-1                                  [1, 1, 20, 1537]          [1, 40, 20, 1513]         1,040                     [1, 25]\n",
      "│    │    └─Conv2d (1): 3-2                                  [1, 40, 20, 1513]         [1, 40, 1, 1513]          32,040                    [20, 1]\n",
      "│    │    └─BatchNorm2d (2): 3-3                             [1, 40, 1, 1513]          [1, 40, 1, 1513]          80                        --\n",
      "│    │    └─ELU (3): 3-4                                     [1, 40, 1, 1513]          [1, 40, 1, 1513]          --                        --\n",
      "│    │    └─AvgPool2d (4): 3-5                               [1, 40, 1, 1513]          [1, 40, 1, 96]            --                        [1, 75]\n",
      "│    │    └─Dropout (5): 3-6                                 [1, 40, 1, 96]            [1, 40, 1, 96]            --                        --\n",
      "│    └─Sequential (projection): 2-2                          [1, 40, 1, 96]            [1, 96, 40]               --                        --\n",
      "│    │    └─Conv2d (0): 3-7                                  [1, 40, 1, 96]            [1, 40, 1, 96]            1,640                     [1, 1]\n",
      "│    │    └─Rearrange (1): 3-8                               [1, 40, 1, 96]            [1, 96, 40]               --                        --\n",
      "├─_TransformerEncoder (transformer): 1-2                     [1, 96, 40]               [1, 96, 40]               --                        --\n",
      "│    └─_TransformerEncoderBlock (0): 2-3                     [1, 96, 40]               [1, 96, 40]               --                        --\n",
      "│    │    └─_ResidualAdd (0): 3-9                            [1, 96, 40]               [1, 96, 40]               6,640                     --\n",
      "│    │    └─_ResidualAdd (1): 3-10                           [1, 96, 40]               [1, 96, 40]               13,080                    --\n",
      "│    └─_TransformerEncoderBlock (1): 2-4                     [1, 96, 40]               [1, 96, 40]               --                        --\n",
      "│    │    └─_ResidualAdd (0): 3-11                           [1, 96, 40]               [1, 96, 40]               6,640                     --\n",
      "│    │    └─_ResidualAdd (1): 3-12                           [1, 96, 40]               [1, 96, 40]               13,080                    --\n",
      "│    └─_TransformerEncoderBlock (2): 2-5                     [1, 96, 40]               [1, 96, 40]               --                        --\n",
      "│    │    └─_ResidualAdd (0): 3-13                           [1, 96, 40]               [1, 96, 40]               6,640                     --\n",
      "│    │    └─_ResidualAdd (1): 3-14                           [1, 96, 40]               [1, 96, 40]               13,080                    --\n",
      "│    └─_TransformerEncoderBlock (3): 2-6                     [1, 96, 40]               [1, 96, 40]               --                        --\n",
      "│    │    └─_ResidualAdd (0): 3-15                           [1, 96, 40]               [1, 96, 40]               6,640                     --\n",
      "│    │    └─_ResidualAdd (1): 3-16                           [1, 96, 40]               [1, 96, 40]               13,080                    --\n",
      "│    └─_TransformerEncoderBlock (4): 2-7                     [1, 96, 40]               [1, 96, 40]               --                        --\n",
      "│    │    └─_ResidualAdd (0): 3-17                           [1, 96, 40]               [1, 96, 40]               6,640                     --\n",
      "│    │    └─_ResidualAdd (1): 3-18                           [1, 96, 40]               [1, 96, 40]               13,080                    --\n",
      "│    └─_TransformerEncoderBlock (5): 2-8                     [1, 96, 40]               [1, 96, 40]               --                        --\n",
      "│    │    └─_ResidualAdd (0): 3-19                           [1, 96, 40]               [1, 96, 40]               6,640                     --\n",
      "│    │    └─_ResidualAdd (1): 3-20                           [1, 96, 40]               [1, 96, 40]               13,080                    --\n",
      "├─_FullyConnected (fc): 1-3                                  [1, 96, 40]               [1, 32]                   --                        --\n",
      "│    └─Sequential (fc): 2-9                                  [1, 3840]                 [1, 32]                   --                        --\n",
      "│    │    └─Linear (0): 3-21                                 [1, 3840]                 [1, 256]                  983,296                   --\n",
      "│    │    └─ELU (1): 3-22                                    [1, 256]                  [1, 256]                  --                        --\n",
      "│    │    └─Dropout (2): 3-23                                [1, 256]                  [1, 256]                  --                        --\n",
      "│    │    └─Linear (3): 3-24                                 [1, 256]                  [1, 32]                   8,224                     --\n",
      "│    │    └─ELU (4): 3-25                                    [1, 32]                   [1, 32]                   --                        --\n",
      "│    │    └─Dropout (5): 3-26                                [1, 32]                   [1, 32]                   --                        --\n",
      "├─_FinalLayer (final_layer): 1-4                             [1, 32]                   [1, 5]                    --                        --\n",
      "│    └─Sequential (final_layer): 2-10                        [1, 32]                   [1, 5]                    --                        --\n",
      "│    │    └─Linear (0): 3-27                                 [1, 32]                   [1, 5]                    165                       --\n",
      "│    │    └─Identity (classification): 3-28                  [1, 5]                    [1, 5]                    --                        --\n",
      "================================================================================================================================================================\n",
      "Total params: 1,144,805\n",
      "Trainable params: 1,144,805\n",
      "Non-trainable params: 0\n",
      "Total mult-adds (M): 81.21\n",
      "================================================================================================================================================================\n",
      "Input size (MB): 0.12\n",
      "Forward/backward pass size (MB): 12.71\n",
      "Params size (MB): 4.58\n",
      "Estimated Total Size (MB): 17.41\n",
      "================================================================================================================================================================\n"
     ]
    }
   ],
   "source": [
    "model = EEGConformer(\n",
    "    n_chans=20,\n",
    "    n_outputs=5,\n",
    "    n_times = 1537,\n",
    "    final_fc_length=3840,\n",
    "    add_log_softmax=False\n",
    "    \n",
    ")\n",
    "\n",
    "cuda   = torch.cuda.is_available()\n",
    "device = \"cuda\" if cuda else \"cpu\" \n",
    "\n",
    "if cuda: model.cuda()\n",
    "\n",
    "print(model)"
   ]
  },
  {
   "cell_type": "markdown",
   "id": "e53763c8-41f1-4f38-9eef-68b06c628dff",
   "metadata": {},
   "source": [
    "# Load Raw preprocessed data\n",
    "Using the provided scripts"
   ]
  },
  {
   "cell_type": "code",
   "execution_count": 22,
   "id": "d671add5-b162-4191-ad20-ef8b680ce5c6",
   "metadata": {
    "tags": []
   },
   "outputs": [],
   "source": [
    "import os\n",
    "import mne\n",
    "import numpy as np\n",
    "from tqdm.notebook import tqdm\n",
    "import matplotlib.pyplot as plt\n",
    "\n",
    "from src.data.utils.eeg import get_raw\n",
    "from src.data.processing import load_data_dict, get_data\n",
    "from src.data.conf.eeg_annotations import braincapture_annotations, tuh_eeg_artefact_annotations\n",
    "\n",
    "import logging\n",
    "\n",
    "# Suppress logger messages from MNE-Python\n",
    "mne_logger = logging.getLogger('mne')\n",
    "mne_logger.setLevel(logging.ERROR)"
   ]
  },
  {
   "cell_type": "code",
   "execution_count": 23,
   "id": "a7a30848-4137-4082-970b-5cefbed0da22",
   "metadata": {
    "tags": []
   },
   "outputs": [],
   "source": [
    "os.chdir(\"/home/jupyter\")\n",
    "braincapture_data_folder = r'copenhagen_medtech_hackathon/BrainCapture Dataset/'\n",
    "tuh_data_folder = r'copenhagen_medtech_hackathon/TUH Dataset/'\n",
    "\n",
    "#data_dict = load_data_dict(data_folder_path=braincapture_data_folder, annotation_dict=braincapture_annotations, tmin=-0.5, tlen=6, labels=True)"
   ]
  },
  {
   "cell_type": "code",
   "execution_count": 5,
   "id": "bfe592a8-75a9-407f-89e6-cf49933f2294",
   "metadata": {
    "tags": []
   },
   "outputs": [],
   "source": [
    "#all_subjects = list(data_dict.keys())\n",
    "\n",
    "#X, y = get_data(data_dict, all_subjects)\n",
    "#print('X shape:', X.shape)\n",
    "#print('y shape:', y.shape)"
   ]
  },
  {
   "cell_type": "code",
   "execution_count": 6,
   "id": "fc534ffe-f54d-4b63-b1f9-b1f32a1861cb",
   "metadata": {
    "tags": []
   },
   "outputs": [
    {
     "name": "stdout",
     "output_type": "stream",
     "text": [
      "X shape: torch.Size([26720, 20, 1537])\n",
      "y shape: torch.Size([26720])\n",
      "y type: tensor([0, 0, 0,  ..., 3, 3, 3])\n"
     ]
    }
   ],
   "source": [
    "Xt = torch.load(\"GoogleBrainCaptureHackathon/X_tuh_data.pt\")\n",
    "yt = torch.load(\"GoogleBrainCaptureHackathon/y_tuh_data.pt\")\n",
    "yt = yt[0:26720]\n",
    "print('X shape:', Xt.shape)\n",
    "print('y shape:', yt.shape)\n",
    "print('y type:', yt)"
   ]
  },
  {
   "cell_type": "code",
   "execution_count": 7,
   "id": "071c6e46-61f0-4422-b7b3-3f25958b1fa9",
   "metadata": {
    "tags": []
   },
   "outputs": [],
   "source": [
    "info = mne.create_info(ch_names=20, sfreq=256, ch_types='eeg')"
   ]
  },
  {
   "cell_type": "code",
   "execution_count": 8,
   "id": "a0168a87-8794-4443-aced-4e6889e138f2",
   "metadata": {
    "tags": []
   },
   "outputs": [],
   "source": [
    "epochs = mne.EpochsArray(Xt, info=info)"
   ]
  },
  {
   "cell_type": "code",
   "execution_count": 9,
   "id": "efc866eb-e1ce-4ac1-8c9f-e25d8ade1991",
   "metadata": {
    "tags": []
   },
   "outputs": [
    {
     "name": "stderr",
     "output_type": "stream",
     "text": [
      "2024-03-16 02:44:25.568481: I tensorflow/core/platform/cpu_feature_guard.cc:210] This TensorFlow binary is optimized to use available CPU instructions in performance-critical operations.\n",
      "To enable the following instructions: AVX2 FMA, in other operations, rebuild TensorFlow with the appropriate compiler flags.\n"
     ]
    }
   ],
   "source": [
    "from torch.utils.tensorboard import SummaryWriter\n",
    "writer = SummaryWriter('runs/experiment_1')"
   ]
  },
  {
   "cell_type": "code",
   "execution_count": 17,
   "id": "db1a3547-7233-400f-adcc-a45bf65450c6",
   "metadata": {
    "tags": []
   },
   "outputs": [],
   "source": [
    "from skorch.dataset import ValidSplit\n",
    "from braindecode import EEGClassifier\n",
    "from skorch.callbacks import Checkpoint\n",
    "cp = Checkpoint(dirname='checkpoint_tuh/', f_pickle='best_model_2.pth')\n",
    "\n",
    "net = EEGClassifier(\n",
    "    'EEGConformer',\n",
    "    module__final_fc_length=3840,\n",
    "    module__add_log_softmax=True,\n",
    "    criterion = CrossEntropyLoss(),\n",
    "    max_epochs=500,\n",
    "    batch_size=256,\n",
    "    train_split=ValidSplit(0.2),\n",
    "    callbacks=[cp],\n",
    "    optimizer = torch.optim.AdamW,\n",
    "    optimizer__lr=0.0005, \n",
    "    optimizer__betas=(0.5, 0.999),\n",
    "    device = \"cuda\",\n",
    ")"
   ]
  },
  {
   "cell_type": "code",
   "execution_count": null,
   "id": "2e731945-57b2-497b-95b4-808ca0a15dc7",
   "metadata": {},
   "outputs": [
    {
     "name": "stderr",
     "output_type": "stream",
     "text": [
      "/opt/conda/lib/python3.10/site-packages/braindecode/models/base.py:180: UserWarning: LogSoftmax final layer will be removed! Please adjust your loss function accordingly (e.g. CrossEntropyLoss)!\n",
      "  warnings.warn(\"LogSoftmax final layer will be removed! \" +\n"
     ]
    },
    {
     "name": "stdout",
     "output_type": "stream",
     "text": [
      "  epoch    train_loss    valid_acc    valid_loss    cp      dur\n",
      "-------  ------------  -----------  ------------  ----  -------\n",
      "      1        \u001b[36m1.2119\u001b[0m       \u001b[32m0.3976\u001b[0m        \u001b[35m1.1714\u001b[0m     +  32.5999\n"
     ]
    }
   ],
   "source": [
    "net.fit(epochs, yt)"
   ]
  },
  {
   "cell_type": "code",
   "execution_count": 24,
   "id": "acd19ff1-35fa-417e-be9b-2e291933325b",
   "metadata": {
    "tags": []
   },
   "outputs": [
    {
     "data": {
      "text/plain": [
       "braindecode.classifier.EEGClassifier"
      ]
     },
     "execution_count": 24,
     "metadata": {},
     "output_type": "execute_result"
    }
   ],
   "source": [
    "import pickle\n",
    "\n",
    "with open('checkpoint_tuh/best_model.pth', 'rb') as f:\n",
    "    model = pickle.load(f)\n",
    "    \n",
    "type(model)"
   ]
  },
  {
   "cell_type": "code",
   "execution_count": 28,
   "id": "9090e1bd-c775-4c5b-95ea-6ebd4a2ddb3b",
   "metadata": {
    "tags": []
   },
   "outputs": [
    {
     "name": "stdout",
     "output_type": "stream",
     "text": [
      "[0 0 0 ... 0 0 0]\n"
     ]
    }
   ],
   "source": [
    "predictions = model.predict(Xt)\n",
    "predictions"
   ]
  },
  {
   "cell_type": "markdown",
   "id": "83e510e6-bd04-47d5-bebd-1fae8386ca3f",
   "metadata": {},
   "source": [
    "# Cross Validation"
   ]
  },
  {
   "cell_type": "code",
   "execution_count": 12,
   "id": "390118c6-41ff-48f7-8ebd-ad19ca4ce8e8",
   "metadata": {},
   "outputs": [
    {
     "ename": "NameError",
     "evalue": "name 'TensorBoard' is not defined",
     "output_type": "error",
     "traceback": [
      "\u001b[0;31m---------------------------------------------------------------------------\u001b[0m",
      "\u001b[0;31mNameError\u001b[0m                                 Traceback (most recent call last)",
      "Cell \u001b[0;32mIn[12], line 15\u001b[0m\n\u001b[1;32m      1\u001b[0m \u001b[38;5;28;01mfrom\u001b[39;00m \u001b[38;5;21;01msklearn\u001b[39;00m\u001b[38;5;21;01m.\u001b[39;00m\u001b[38;5;21;01mmodel_selection\u001b[39;00m \u001b[38;5;28;01mimport\u001b[39;00m KFold, cross_val_score\n\u001b[1;32m      3\u001b[0m net \u001b[38;5;241m=\u001b[39m EEGClassifier(\n\u001b[1;32m      4\u001b[0m     \u001b[38;5;124m'\u001b[39m\u001b[38;5;124mEEGConformer\u001b[39m\u001b[38;5;124m'\u001b[39m,\n\u001b[1;32m      5\u001b[0m     module__n_chans\u001b[38;5;241m=\u001b[39m\u001b[38;5;241m20\u001b[39m,\n\u001b[1;32m      6\u001b[0m     module__n_outputs\u001b[38;5;241m=\u001b[39m\u001b[38;5;241m5\u001b[39m,\n\u001b[1;32m      7\u001b[0m     module__final_fc_length\u001b[38;5;241m=\u001b[39m\u001b[38;5;241m3840\u001b[39m,\n\u001b[1;32m      8\u001b[0m     module__add_log_softmax\u001b[38;5;241m=\u001b[39m\u001b[38;5;28;01mFalse\u001b[39;00m,\n\u001b[1;32m      9\u001b[0m     criterion \u001b[38;5;241m=\u001b[39m CrossEntropyLoss(),\n\u001b[1;32m     10\u001b[0m     max_epochs\u001b[38;5;241m=\u001b[39m\u001b[38;5;241m10\u001b[39m,\n\u001b[1;32m     11\u001b[0m     batch_size\u001b[38;5;241m=\u001b[39m\u001b[38;5;241m8\u001b[39m,\n\u001b[1;32m     12\u001b[0m     train_split\u001b[38;5;241m=\u001b[39m\u001b[38;5;28;01mNone\u001b[39;00m,\n\u001b[1;32m     13\u001b[0m     callbacks\u001b[38;5;241m=\u001b[39m[\n\u001b[1;32m     14\u001b[0m         \u001b[38;5;124m\"\u001b[39m\u001b[38;5;124maccuracy\u001b[39m\u001b[38;5;124m\"\u001b[39m, \n\u001b[0;32m---> 15\u001b[0m         \u001b[43mTensorBoard\u001b[49m(writer)\n\u001b[1;32m     16\u001b[0m     ],\n\u001b[1;32m     17\u001b[0m     optimizer \u001b[38;5;241m=\u001b[39m torch\u001b[38;5;241m.\u001b[39moptim\u001b[38;5;241m.\u001b[39mAdam,\n\u001b[1;32m     18\u001b[0m     optimizer__lr\u001b[38;5;241m=\u001b[39m\u001b[38;5;241m0.0002\u001b[39m, \n\u001b[1;32m     19\u001b[0m     optimizer__betas\u001b[38;5;241m=\u001b[39m(\u001b[38;5;241m0.5\u001b[39m, \u001b[38;5;241m0.999\u001b[39m),\n\u001b[1;32m     20\u001b[0m     device \u001b[38;5;241m=\u001b[39m \u001b[38;5;124m\"\u001b[39m\u001b[38;5;124mcuda\u001b[39m\u001b[38;5;124m\"\u001b[39m\n\u001b[1;32m     21\u001b[0m )\n\u001b[1;32m     23\u001b[0m train_val_split \u001b[38;5;241m=\u001b[39m KFold(n_splits\u001b[38;5;241m=\u001b[39m\u001b[38;5;241m5\u001b[39m, shuffle\u001b[38;5;241m=\u001b[39m\u001b[38;5;28;01mFalse\u001b[39;00m)\n\u001b[1;32m     24\u001b[0m cv_results \u001b[38;5;241m=\u001b[39m cross_val_score(\n\u001b[1;32m     25\u001b[0m     net, X, y, scoring\u001b[38;5;241m=\u001b[39m\u001b[38;5;124m\"\u001b[39m\u001b[38;5;124maccuracy\u001b[39m\u001b[38;5;124m\"\u001b[39m, cv\u001b[38;5;241m=\u001b[39mtrain_val_split, n_jobs\u001b[38;5;241m=\u001b[39m\u001b[38;5;241m1\u001b[39m\n\u001b[1;32m     26\u001b[0m )\n",
      "\u001b[0;31mNameError\u001b[0m: name 'TensorBoard' is not defined"
     ]
    }
   ],
   "source": [
    "from sklearn.model_selection import KFold, cross_val_score\n",
    "\n",
    "net = EEGClassifier(\n",
    "    'EEGConformer',\n",
    "    module__n_chans=20,\n",
    "    module__n_outputs=5,\n",
    "    module__final_fc_length=3840,\n",
    "    module__add_log_softmax=False,\n",
    "    criterion = CrossEntropyLoss(),\n",
    "    max_epochs=10,\n",
    "    batch_size=8,\n",
    "    train_split=None,\n",
    "    callbacks=[\n",
    "        \"accuracy\", \n",
    "        TensorBoard(writer)\n",
    "    ],\n",
    "    optimizer = torch.optim.Adam,\n",
    "    optimizer__lr=0.0002, \n",
    "    optimizer__betas=(0.5, 0.999),\n",
    "    device = \"cuda\"\n",
    ")\n",
    "\n",
    "train_val_split = KFold(n_splits=5, shuffle=False)\n",
    "cv_results = cross_val_score(\n",
    "    net, X, y, scoring=\"accuracy\", cv=train_val_split, n_jobs=1\n",
    ")\n",
    "\n",
    "print(\n",
    "    f\"Validation accuracy: {np.mean(cv_results * 100):.2f}\"\n",
    "    f\"+-{np.std(cv_results * 100):.2f}%\"\n",
    ")"
   ]
  },
  {
   "cell_type": "code",
   "execution_count": null,
   "id": "ede6c113-ee04-4262-ae3a-fe9477ea85d3",
   "metadata": {},
   "outputs": [],
   "source": []
  }
 ],
 "metadata": {
  "environment": {
   "kernel": "conda-root-py",
   "name": "workbench-notebooks.m118",
   "type": "gcloud",
   "uri": "us-docker.pkg.dev/deeplearning-platform-release/gcr.io/workbench-notebooks:m118"
  },
  "kernelspec": {
   "display_name": "Python 3 (ipykernel) (Local)",
   "language": "python",
   "name": "conda-root-py"
  },
  "language_info": {
   "codemirror_mode": {
    "name": "ipython",
    "version": 3
   },
   "file_extension": ".py",
   "mimetype": "text/x-python",
   "name": "python",
   "nbconvert_exporter": "python",
   "pygments_lexer": "ipython3",
   "version": "3.10.13"
  }
 },
 "nbformat": 4,
 "nbformat_minor": 5
}
